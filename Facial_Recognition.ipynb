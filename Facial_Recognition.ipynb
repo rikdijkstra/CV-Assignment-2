{
 "cells": [
  {
   "cell_type": "code",
   "execution_count": 45,
   "metadata": {
    "collapsed": true
   },
   "outputs": [],
   "source": [
    "import tensorflow as tf\n",
    "from tensorflow import keras\n",
    "from tensorflow.keras import datasets, layers, models\n",
    "import cv2\n",
    "import numpy as np\n",
    "import pandas as pd\n",
    "import matplotlib.pyplot as plt\n",
    "import tqdm"
   ]
  },
  {
   "cell_type": "code",
   "execution_count": 46,
   "outputs": [],
   "source": [
    "# Step 1\n",
    "# Importing the data"
   ],
   "metadata": {
    "collapsed": false,
    "pycharm": {
     "name": "#%%\n"
    }
   }
  },
  {
   "cell_type": "code",
   "execution_count": 47,
   "outputs": [],
   "source": [
    "df = pd.read_csv(\"./data/fer2013/fer2013/fer2013.csv\")\n",
    "sols = pd.read_csv(\"./data/Submission.csv\")"
   ],
   "metadata": {
    "collapsed": false,
    "pycharm": {
     "name": "#%%\n"
    }
   }
  },
  {
   "cell_type": "code",
   "execution_count": 48,
   "outputs": [
    {
     "name": "stdout",
     "output_type": "stream",
     "text": [
      "Emotions:  {0, 1, 2, 3, 4, 5, 6}\n"
     ]
    }
   ],
   "source": [
    "#  (0=Angry, 1=Disgust, 2=Fear, 3=Happy, 4=Sad, 5=Surprise, 6=Neutral).\n",
    "print(\"Emotions: \", set(df['emotion']))\n",
    "\n",
    "emotions = [\"Angry\", \"Disgust\", \"Fear\", \"Happy\", \"Sad\", \"Surprise\", \"Neutral\"]"
   ],
   "metadata": {
    "collapsed": false,
    "pycharm": {
     "name": "#%%\n"
    }
   }
  },
  {
   "cell_type": "code",
   "execution_count": 49,
   "outputs": [],
   "source": [
    "# Checking if data needs to be cleaned\n",
    "sum_ = 0\n",
    "for col in df.columns:\n",
    "    sum_ += df[col].isnull().sum()\n",
    "print(sum_)"
   ],
   "metadata": {
    "collapsed": false,
    "pycharm": {
     "name": "#%%\n"
    }
   }
  },
  {
   "cell_type": "code",
   "execution_count": 51,
   "outputs": [],
   "source": [
    "# No missing values, and a quick glance through the entries tells me we should be good\n",
    "# Let's display some images, and find out what emotions 0-6 represent"
   ],
   "metadata": {
    "collapsed": false,
    "pycharm": {
     "name": "#%%\n"
    }
   }
  },
  {
   "cell_type": "code",
   "execution_count": 52,
   "outputs": [],
   "source": [
    "\"\"\"\n",
    "    Turns strings into intiger arrays or matrices\n",
    "    if matrix_boolean=True, a matrix is returned\n",
    "    if normalize_boolean=True, each value is between [0, 1] instead of [0, 255]\n",
    "    when nparray_boolean is true, a np.array() is returned, otherwise a list (same goes for matrix format) \n",
    "\"\"\"\n",
    "def string_to_intarray(pix, matrix_boolean=True, normalize_boolean=False, nparray_boolean=True):\n",
    "    # The string is shaped: \"num1 num2 num3 ... numn\"\n",
    "    # Splitting at each space gives a list [\"num1\", \"num2\", ..., \"numn\"]\n",
    "    pix = pix.split(\" \")\n",
    "\n",
    "    # Creating a numpy array by reading each number string p as an integer\n",
    "    pix = np.array([int(p) for p in pix])\n",
    "\n",
    "    # # Checking the shape to decide on the matrix format\n",
    "    # print(pix.shape)\n",
    "\n",
    "    # Dataset metadata says pictures are 48x48 -> rescale\n",
    "    if matrix_boolean:\n",
    "        pix = pix.reshape((48, 48, 1))\n",
    "    # print(pix.shape)\n",
    "\n",
    "    # for tensorflow we need values in range [0, 1] not [0, 255]\n",
    "    if normalize_boolean:\n",
    "        pix = pix/255\n",
    "\n",
    "    # apparently tensorflow doesn't want nparrays, just matrices\n",
    "    if not nparray_boolean:\n",
    "        pix = pix.tolist()\n",
    "\n",
    "    return pix\n",
    "\n",
    "# Loading a set of pixels from the dataset, as a string\n",
    "pix = df[\"pixels\"].iloc[0]\n",
    "pix = string_to_intarray(pix, True)"
   ],
   "metadata": {
    "collapsed": false,
    "pycharm": {
     "name": "#%%\n"
    }
   }
  },
  {
   "cell_type": "code",
   "execution_count": 53,
   "outputs": [
    {
     "data": {
      "text/plain": "<matplotlib.image.AxesImage at 0x23ead209670>"
     },
     "execution_count": 53,
     "metadata": {},
     "output_type": "execute_result"
    },
    {
     "data": {
      "text/plain": "<Figure size 432x288 with 1 Axes>",
      "image/png": "[encoded data removed]"
     },
     "metadata": {
      "needs_background": "light"
     },
     "output_type": "display_data"
    }
   ],
   "source": [
    "# Looking good\n",
    "plt.imshow(pix, cmap='gray')"
   ],
   "metadata": {
    "collapsed": false,
    "pycharm": {
     "name": "#%%\n"
    }
   }
  },
  {
   "cell_type": "code",
   "execution_count": 55,
   "outputs": [],
   "source": [
    "# Complete preprocessing. All pixel entries should be vectors of integers\n",
    "for index, row in df.iterrows():\n",
    "    row[1] = string_to_intarray(row[1], True, True, False)\n",
    "    df.iloc[index] = row"
   ],
   "metadata": {
    "collapsed": false,
    "pycharm": {
     "name": "#%%\n"
    }
   }
  },
  {
   "cell_type": "code",
   "execution_count": 62,
   "outputs": [
    {
     "name": "stdout",
     "output_type": "stream",
     "text": [
      "{'Training'}\n",
      "{'Training', 'PrivateTest', 'PublicTest'}\n"
     ]
    }
   ],
   "source": [
    "# Step 2: Parsing the data to h5py format as mentioned in the assignment\n",
    "# Tensorflow should have readily available methods\n",
    "\n",
    "# Update: Looks like tensorflow doesn't need h5py\n",
    "# Create training and testing dataframes\n",
    "# df_train = all rows of df where Usage==\"Training\"\n",
    "df_train = df[df[\"Usage\"]==\"Training\"]\n",
    "# Sanity check\n",
    "print(set(df_train[\"Usage\"]))\n",
    "\n",
    "# repeating process for the test sets\n",
    "print(set(df[\"Usage\"]))\n",
    "df_prt = df[df[\"Usage\"]==\"PrivateTest\"]\n",
    "df_put = df[df[\"Usage\"]==\"PublicTest\"]"
   ],
   "metadata": {
    "collapsed": false,
    "pycharm": {
     "name": "#%%\n"
    }
   }
  },
  {
   "cell_type": "code",
   "execution_count": 73,
   "outputs": [],
   "source": [
    "df_train[\"pixels\"].iloc[0]\n",
    "\n",
    "# Following along with a tutorial for this part https://www.tensorflow.org/tutorials/load_data/csv\n",
    "# Turning the training set into a pixels array and a labels array\n",
    "\n",
    "# Slicing the start only s.t. running times are lower\n",
    "train_pix = list(df_train[\"pixels\"])\n",
    "train_labels = list(df_train[\"emotion\"])\n",
    "\n",
    "\n",
    "test_pr_pix = list(df_prt[\"pixels\"])\n",
    "test_pr_labels = list(df_prt[\"emotion\"])\n",
    "test_pu_pix = list(df_put[\"pixels\"])\n",
    "test_pu_labels = list(df_put[\"emotion\"])\n"
   ],
   "metadata": {
    "collapsed": false,
    "pycharm": {
     "name": "#%%\n"
    }
   }
  },
  {
   "cell_type": "code",
   "execution_count": 74,
   "outputs": [],
   "source": [
    "# Now creating the CNN, following along with https://www.tensorflow.org/tutorials/images/cnn\n",
    "\n",
    "model = models.Sequential()\n",
    "# Adds a convolutional layer with 32 filters and kernel size 3x3\n",
    "model.add(layers.Conv2D(48, (3, 3), activation='relu', input_shape=(48, 48, 1)))\n",
    "model.add(layers.MaxPooling2D((2, 2)))\n",
    "model.add(layers.Conv2D(96, (3, 3), activation='relu'))\n",
    "model.add(layers.MaxPooling2D((2, 2)))\n",
    "model.add(layers.Conv2D(96, (3, 3), activation='relu'))\n",
    "model.add(layers.Flatten())\n",
    "model.add(layers.Dense(96, activation='relu'))\n",
    "model.add(layers.Dense(10))"
   ],
   "metadata": {
    "collapsed": false,
    "pycharm": {
     "name": "#%%\n"
    }
   }
  },
  {
   "cell_type": "code",
   "execution_count": 75,
   "outputs": [
    {
     "name": "stdout",
     "output_type": "stream",
     "text": [
      "Model: \"sequential_5\"\n",
      "_________________________________________________________________\n",
      "Layer (type)                 Output Shape              Param #   \n",
      "=================================================================\n",
      "conv2d_11 (Conv2D)           (None, 46, 46, 48)        480       \n",
      "_________________________________________________________________\n",
      "max_pooling2d_6 (MaxPooling2 (None, 23, 23, 48)        0         \n",
      "_________________________________________________________________\n",
      "conv2d_12 (Conv2D)           (None, 21, 21, 96)        41568     \n",
      "_________________________________________________________________\n",
      "max_pooling2d_7 (MaxPooling2 (None, 10, 10, 96)        0         \n",
      "_________________________________________________________________\n",
      "conv2d_13 (Conv2D)           (None, 8, 8, 96)          83040     \n",
      "_________________________________________________________________\n",
      "flatten_5 (Flatten)          (None, 6144)              0         \n",
      "_________________________________________________________________\n",
      "dense_10 (Dense)             (None, 96)                589920    \n",
      "_________________________________________________________________\n",
      "dense_11 (Dense)             (None, 10)                970       \n",
      "=================================================================\n",
      "Total params: 715,978\n",
      "Trainable params: 715,978\n",
      "Non-trainable params: 0\n",
      "_________________________________________________________________\n"
     ]
    }
   ],
   "source": [
    "model.summary()"
   ],
   "metadata": {
    "collapsed": false,
    "pycharm": {
     "name": "#%%\n"
    }
   }
  },
  {
   "cell_type": "code",
   "execution_count": 76,
   "outputs": [],
   "source": [
    "model.compile(optimizer='adam',\n",
    "              loss=tf.keras.losses.SparseCategoricalCrossentropy(from_logits=True),\n",
    "              metrics=['accuracy'])"
   ],
   "metadata": {
    "collapsed": false,
    "pycharm": {
     "name": "#%%\n"
    }
   }
  },
  {
   "cell_type": "code",
   "execution_count": null,
   "outputs": [],
   "source": [
    "history = model.fit(train_pix, train_labels, epochs=10,\n",
    "                    validation_data=(test_pr_pix, test_pr_labels))"
   ],
   "metadata": {
    "collapsed": false,
    "pycharm": {
     "name": "#%%\n",
     "is_executing": true
    }
   }
  },
  {
   "cell_type": "code",
   "execution_count": null,
   "outputs": [],
   "source": [
    "val = model.predict(test_pu_pix[0])\n",
    "print(val)"
   ],
   "metadata": {
    "collapsed": false,
    "pycharm": {
     "name": "#%%\n",
     "is_executing": true
    }
   }
  },
  {
   "cell_type": "code",
   "execution_count": null,
   "outputs": [],
   "source": [
    "val = emotions[val]\n",
    "plt.imshow(test_pu_pix[0])\n",
    "\n",
    "plt.label(\"Pred: \", val, \"Ref: \", test_pu_labels[0])"
   ],
   "metadata": {
    "collapsed": false,
    "pycharm": {
     "name": "#%%\n",
     "is_executing": true
    }
   }
  },
  {
   "cell_type": "code",
   "execution_count": null,
   "outputs": [],
   "source": [],
   "metadata": {
    "collapsed": false,
    "pycharm": {
     "name": "#%%\n"
    }
   }
  }
 ],
 "metadata": {
  "kernelspec": {
   "display_name": "Python 3",
   "language": "python",
   "name": "python3"
  },
  "language_info": {
   "codemirror_mode": {
    "name": "ipython",
    "version": 2
   },
   "file_extension": ".py",
   "mimetype": "text/x-python",
   "name": "python",
   "nbconvert_exporter": "python",
   "pygments_lexer": "ipython2",
   "version": "2.7.6"
  }
 },
 "nbformat": 4,
 "nbformat_minor": 0
}